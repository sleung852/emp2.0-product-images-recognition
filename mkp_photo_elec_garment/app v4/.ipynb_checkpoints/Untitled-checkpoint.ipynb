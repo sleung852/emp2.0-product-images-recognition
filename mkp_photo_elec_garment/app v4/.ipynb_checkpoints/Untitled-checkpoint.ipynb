{
 "cells": [
  {
   "cell_type": "code",
   "execution_count": 28,
   "metadata": {},
   "outputs": [
    {
     "name": "stdout",
     "output_type": "stream",
     "text": [
      "Connection initialised\n",
      "Obtained Data at 2019-02-25 15:33:03.918959\n",
      "Overall Completion: 5.08%\n",
      "with 9492 of products to label\n",
      "--------------------\n",
      "Garment Completion: 2.64%\n",
      "with 4868 of products to label\n",
      "--------------------\n",
      "Consumer Electronic Completion: 7.52%\n",
      "with 4624 of products to label\n",
      "--------------------\n",
      "Data was obtained at 2019-02-25 15:33:03.918959\n",
      "Press any key to terminate.\n"
     ]
    },
    {
     "data": {
      "text/plain": [
       "''"
      ]
     },
     "execution_count": 28,
     "metadata": {},
     "output_type": "execute_result"
    }
   ],
   "source": [
    "import time\n",
    "import datetime\n",
    "import gspread\n",
    "from oauth2client.service_account import ServiceAccountCredentials\n",
    "import numpy as np\n",
    "import pandas as pd\n",
    "\n",
    "\n",
    "class StatusReport:\n",
    "    def __init__(self,\n",
    "                 scope=None,\n",
    "                 credentials=None,\n",
    "                 data=None,\n",
    "                 time_obtained=None\n",
    "                 ):\n",
    "    \n",
    "        self.scope=scope\n",
    "        self.credentials=credentials\n",
    "        self.data=data\n",
    "        self.time_obtained=time_obtained\n",
    "\n",
    "    def connection(self):\n",
    "        self.scope=['https://www.googleapis.com/auth/drive']\n",
    "        self.credentials=ServiceAccountCredentials.from_json_keyfile_name('../hktdc-pec-elec-garment-tag-72f0e1c9e005.json',\n",
    "                                                                          self.scope)\n",
    "        print('Connection initialised')\n",
    "        \n",
    "    def get_report(self):\n",
    "        start = time.time()\n",
    "        gc = gspread.authorize(self.credentials)\n",
    "        df=pd.DataFrame()\n",
    "        for productType in ['garment','elec']:\n",
    "            wks = gc.open('emp_product_tag_{}'.format(productType)).worksheet(\"output\")\n",
    "            df_temp=pd.DataFrame(wks.get_all_values())\n",
    "            df_temp.columns=df_temp.iloc[0]\n",
    "            df_temp=df_temp.drop(df_temp.index[0])\n",
    "            df_temp['PRODUCT_TYPE']=productType\n",
    "            df=df.append(df_temp)\n",
    "        self.data = df\n",
    "        self.time_obtained=datetime.datetime.now()\n",
    "        print('Obtained Data at {}'.format(self.time_obtained))\n",
    "\n",
    "    def overview(self):\n",
    "        #check whether the inputs are correct\n",
    "        #if self.data==None:\n",
    "        #\traise Exception('No report is available yet. \\nPlease use get_report before using overview.')\n",
    "\n",
    "        total=self.data.shape[0]\n",
    "        notDone=self.data[self.data['completed_timestamp']=='not_ready'].shape[0]\n",
    "        print('Overall Completion: {:.2f}%'.format(100*(1-(notDone/total))))\n",
    "        print('with {} of products to label'.format(notDone))\n",
    "        print('--'*10)\n",
    "\n",
    "        df_temp = self.data[self.data['PRODUCT_TYPE']=='garment']\n",
    "        g_total=df_temp.shape[0]\n",
    "        g_notDone=df_temp[df_temp['completed_timestamp']=='not_ready'].shape[0]\n",
    "\n",
    "        print('Garment Completion: {:.2f}%'.format(100*(1-(g_notDone/g_total))))\n",
    "        print('with {} of products to label'.format(g_notDone))\n",
    "        print('--'*10)\n",
    "\n",
    "        df_temp = self.data[self.data['PRODUCT_TYPE']=='elec']\n",
    "        e_total=df_temp.shape[0]\n",
    "        e_notDone=df_temp[df_temp['completed_timestamp']=='not_ready'].shape[0]\n",
    "\n",
    "        print('Consumer Electronic Completion: {:.2f}%'.format(100*(1-(e_notDone/e_total))))\n",
    "        print('with {} of products to label'.format(e_notDone))\n",
    "        print('--'*10)\n",
    "        \n",
    "        print('Data was obtained at {}'.format(self.time_obtained))\n",
    "\n",
    "obtainReport = StatusReport()\n",
    "obtainReport.connection()\n",
    "obtainReport.get_report()\n",
    "obtainReport.overview()\n",
    "\n",
    "input('Press any key to terminate.');"
   ]
  },
  {
   "cell_type": "code",
   "execution_count": null,
   "metadata": {},
   "outputs": [],
   "source": []
  }
 ],
 "metadata": {
  "kernelspec": {
   "display_name": "Python 3",
   "language": "python",
   "name": "python3"
  },
  "language_info": {
   "codemirror_mode": {
    "name": "ipython",
    "version": 3
   },
   "file_extension": ".py",
   "mimetype": "text/x-python",
   "name": "python",
   "nbconvert_exporter": "python",
   "pygments_lexer": "ipython3",
   "version": "3.6.6"
  }
 },
 "nbformat": 4,
 "nbformat_minor": 2
}
