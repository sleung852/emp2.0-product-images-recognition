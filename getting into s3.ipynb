{
 "cells": [
  {
   "cell_type": "code",
   "execution_count": 1,
   "metadata": {},
   "outputs": [],
   "source": [
    "#general operations\n",
    "import time\n",
    "import os\n",
    "import copy\n",
    "from __future__ import print_function, division\n",
    "\n",
    "#for openning images via an URL\n",
    "from PIL import Image\n",
    "import requests\n",
    "from io import BytesIO\n",
    "from skimage import io, transform\n",
    "\n",
    "#data processing\n",
    "import pandas as pd\n",
    "import numpy as np\n",
    "\n",
    "#data visualisation\n",
    "import matplotlib.pyplot as plt\n",
    "\n",
    "#standard AWS operations\n",
    "from sagemaker import get_execution_role\n",
    "import boto3\n",
    "\n",
    "#ML tools\n",
    "import torch\n",
    "import torch.nn as nn\n",
    "import torch.optim as optim\n",
    "from torch.optim import lr_scheduler\n",
    "from torch.utils.data.dataset import Dataset\n",
    "import torchvision\n",
    "from torchvision import models, transforms"
   ]
  },
  {
   "cell_type": "code",
   "execution_count": null,
   "metadata": {},
   "outputs": [],
   "source": [
    "data_location = 's3://{}/{}'.format(bucket, 's3://see-ml-storage/data\\1018247.jpg')\n",
    "io.imread(r's3://see-ml-storage/8852.jpg')"
   ]
  },
  {
   "cell_type": "code",
   "execution_count": 10,
   "metadata": {},
   "outputs": [
    {
     "ename": "NameError",
     "evalue": "name 'bucket' is not defined",
     "output_type": "error",
     "traceback": [
      "\u001b[0;31m---------------------------------------------------------------------------\u001b[0m",
      "\u001b[0;31mNameError\u001b[0m                                 Traceback (most recent call last)",
      "\u001b[0;32m<ipython-input-10-3202a69dabfd>\u001b[0m in \u001b[0;36m<module>\u001b[0;34m()\u001b[0m\n\u001b[0;32m----> 1\u001b[0;31m \u001b[0mdata_location\u001b[0m \u001b[0;34m=\u001b[0m \u001b[0;34m's3://{}/{}'\u001b[0m\u001b[0;34m.\u001b[0m\u001b[0mformat\u001b[0m\u001b[0;34m(\u001b[0m\u001b[0mbucket\u001b[0m\u001b[0;34m,\u001b[0m \u001b[0;34m's3://see-ml-storage/data\\1018247.jpg'\u001b[0m\u001b[0;34m)\u001b[0m\u001b[0;34m\u001b[0m\u001b[0m\n\u001b[0m\u001b[1;32m      2\u001b[0m \u001b[0mimage\u001b[0m \u001b[0;34m=\u001b[0m \u001b[0mImage\u001b[0m\u001b[0;34m.\u001b[0m\u001b[0mopen\u001b[0m\u001b[0;34m(\u001b[0m\u001b[0;34mr's3://see-ml-storage/8852.jpg'\u001b[0m\u001b[0;34m)\u001b[0m\u001b[0;34m\u001b[0m\u001b[0m\n",
      "\u001b[0;31mNameError\u001b[0m: name 'bucket' is not defined"
     ]
    }
   ],
   "source": [
    "data_location = 's3://{}/{}'.format(bucket, 's3://see-ml-storage/data\\1018247.jpg')\n",
    "image = Image.open(r's3://see-ml-storage/8852.jpg')"
   ]
  },
  {
   "cell_type": "code",
   "execution_count": 4,
   "metadata": {},
   "outputs": [
    {
     "ename": "FileNotFoundError",
     "evalue": "[Errno 2] No such file or directory: 's3://see-ml-storage/8852.jpg'",
     "output_type": "error",
     "traceback": [
      "\u001b[0;31m---------------------------------------------------------------------------\u001b[0m",
      "\u001b[0;31mFileNotFoundError\u001b[0m                         Traceback (most recent call last)",
      "\u001b[0;32m<ipython-input-4-9a711ffe96f9>\u001b[0m in \u001b[0;36m<module>\u001b[0;34m()\u001b[0m\n\u001b[1;32m      1\u001b[0m \u001b[0mdata_location\u001b[0m \u001b[0;34m=\u001b[0m \u001b[0;34m's3://{}/{}'\u001b[0m\u001b[0;34m.\u001b[0m\u001b[0mformat\u001b[0m\u001b[0;34m(\u001b[0m\u001b[0;34m'see-ml-storage'\u001b[0m\u001b[0;34m,\u001b[0m \u001b[0;34m'8852.jpg'\u001b[0m\u001b[0;34m)\u001b[0m\u001b[0;34m\u001b[0m\u001b[0m\n\u001b[0;32m----> 2\u001b[0;31m \u001b[0mimage\u001b[0m \u001b[0;34m=\u001b[0m \u001b[0mImage\u001b[0m\u001b[0;34m.\u001b[0m\u001b[0mopen\u001b[0m\u001b[0;34m(\u001b[0m\u001b[0mdata_location\u001b[0m\u001b[0;34m)\u001b[0m\u001b[0;34m\u001b[0m\u001b[0m\n\u001b[0m",
      "\u001b[0;32m~/anaconda3/envs/pytorch_p36/lib/python3.6/site-packages/PIL/Image.py\u001b[0m in \u001b[0;36mopen\u001b[0;34m(fp, mode)\u001b[0m\n\u001b[1;32m   2578\u001b[0m \u001b[0;34m\u001b[0m\u001b[0m\n\u001b[1;32m   2579\u001b[0m     \u001b[0;32mif\u001b[0m \u001b[0mfilename\u001b[0m\u001b[0;34m:\u001b[0m\u001b[0;34m\u001b[0m\u001b[0m\n\u001b[0;32m-> 2580\u001b[0;31m         \u001b[0mfp\u001b[0m \u001b[0;34m=\u001b[0m \u001b[0mbuiltins\u001b[0m\u001b[0;34m.\u001b[0m\u001b[0mopen\u001b[0m\u001b[0;34m(\u001b[0m\u001b[0mfilename\u001b[0m\u001b[0;34m,\u001b[0m \u001b[0;34m\"rb\"\u001b[0m\u001b[0;34m)\u001b[0m\u001b[0;34m\u001b[0m\u001b[0m\n\u001b[0m\u001b[1;32m   2581\u001b[0m         \u001b[0mexclusive_fp\u001b[0m \u001b[0;34m=\u001b[0m \u001b[0;32mTrue\u001b[0m\u001b[0;34m\u001b[0m\u001b[0m\n\u001b[1;32m   2582\u001b[0m \u001b[0;34m\u001b[0m\u001b[0m\n",
      "\u001b[0;31mFileNotFoundError\u001b[0m: [Errno 2] No such file or directory: 's3://see-ml-storage/8852.jpg'"
     ]
    }
   ],
   "source": [
    "data_location = 's3://{}/{}'.format('see-ml-storage', '8852.jpg')\n",
    "image = Image.open(data_location)"
   ]
  },
  {
   "cell_type": "code",
   "execution_count": 11,
   "metadata": {},
   "outputs": [],
   "source": [
    "data_location = 's3://{}/{}'.format('see-ml-storage', 'case3_dataset_v3.csv')\n",
    "df=pd.read_csv(data_location)"
   ]
  },
  {
   "cell_type": "code",
   "execution_count": 5,
   "metadata": {},
   "outputs": [
    {
     "data": {
      "text/html": [
       "<div>\n",
       "<style scoped>\n",
       "    .dataframe tbody tr th:only-of-type {\n",
       "        vertical-align: middle;\n",
       "    }\n",
       "\n",
       "    .dataframe tbody tr th {\n",
       "        vertical-align: top;\n",
       "    }\n",
       "\n",
       "    .dataframe thead th {\n",
       "        text-align: right;\n",
       "    }\n",
       "</style>\n",
       "<table border=\"1\" class=\"dataframe\">\n",
       "  <thead>\n",
       "    <tr style=\"text-align: right;\">\n",
       "      <th></th>\n",
       "      <th>Unnamed: 0</th>\n",
       "      <th>Unnamed: 0.1</th>\n",
       "      <th>RID</th>\n",
       "      <th>CATEGORY_ID</th>\n",
       "      <th>CATEGORY_DEPTH</th>\n",
       "      <th>ROOT</th>\n",
       "      <th>DPA_PATH</th>\n",
       "      <th>LEAF</th>\n",
       "      <th>PRODUCT_ID</th>\n",
       "      <th>ATTR_ID</th>\n",
       "      <th>ATTR_NAME</th>\n",
       "      <th>ATTR_VALUE</th>\n",
       "      <th>PRODUCT_URL</th>\n",
       "      <th>IMAGE_URL</th>\n",
       "      <th>ATTR_COM</th>\n",
       "    </tr>\n",
       "  </thead>\n",
       "  <tbody>\n",
       "    <tr>\n",
       "      <th>0</th>\n",
       "      <td>0</td>\n",
       "      <td>120998</td>\n",
       "      <td>120999</td>\n",
       "      <td>232</td>\n",
       "      <td>3</td>\n",
       "      <td>Baby Product</td>\n",
       "      <td>Baby Product &gt; Activity &amp; Gear &gt; Baby Harness</td>\n",
       "      <td>Baby Harness</td>\n",
       "      <td>1117680</td>\n",
       "      <td>1284</td>\n",
       "      <td>Material</td>\n",
       "      <td>Cotton</td>\n",
       "      <td>http://www.hktdc.com/suppliers-products/Baby-W...</td>\n",
       "      <td>http://i03.hktdc-img.com/rsc?profile=productim...</td>\n",
       "      <td>Material_Cotton</td>\n",
       "    </tr>\n",
       "    <tr>\n",
       "      <th>1</th>\n",
       "      <td>1</td>\n",
       "      <td>121100</td>\n",
       "      <td>121101</td>\n",
       "      <td>232</td>\n",
       "      <td>3</td>\n",
       "      <td>Baby Product</td>\n",
       "      <td>Baby Product &gt; Activity &amp; Gear &gt; Baby Harness</td>\n",
       "      <td>Baby Harness</td>\n",
       "      <td>3371913</td>\n",
       "      <td>1284</td>\n",
       "      <td>Material</td>\n",
       "      <td>Cotton</td>\n",
       "      <td>NaN</td>\n",
       "      <td>http://i03.hktdc-img.com/rsc?profile=productim...</td>\n",
       "      <td>Material_Cotton</td>\n",
       "    </tr>\n",
       "    <tr>\n",
       "      <th>2</th>\n",
       "      <td>2</td>\n",
       "      <td>125103</td>\n",
       "      <td>125104</td>\n",
       "      <td>234</td>\n",
       "      <td>3</td>\n",
       "      <td>Baby Product</td>\n",
       "      <td>Baby Product &gt; Activity &amp; Gear &gt; Baby Push Cha...</td>\n",
       "      <td>Baby Push Chairs / Strollers</td>\n",
       "      <td>3129504</td>\n",
       "      <td>17114</td>\n",
       "      <td>Material</td>\n",
       "      <td>Cotton</td>\n",
       "      <td>http://www.hktdc.com/suppliers-products/Baby-S...</td>\n",
       "      <td>http://i03.hktdc-img.com/rsc?profile=productim...</td>\n",
       "      <td>Material_Cotton</td>\n",
       "    </tr>\n",
       "    <tr>\n",
       "      <th>3</th>\n",
       "      <td>3</td>\n",
       "      <td>128147</td>\n",
       "      <td>128148</td>\n",
       "      <td>234</td>\n",
       "      <td>3</td>\n",
       "      <td>Baby Product</td>\n",
       "      <td>Baby Product &gt; Activity &amp; Gear &gt; Baby Push Cha...</td>\n",
       "      <td>Baby Push Chairs / Strollers</td>\n",
       "      <td>3448267</td>\n",
       "      <td>17114</td>\n",
       "      <td>Material</td>\n",
       "      <td>Cotton</td>\n",
       "      <td>NaN</td>\n",
       "      <td>http://i03.hktdc-img.com/rsc?profile=productim...</td>\n",
       "      <td>Material_Cotton</td>\n",
       "    </tr>\n",
       "    <tr>\n",
       "      <th>4</th>\n",
       "      <td>4</td>\n",
       "      <td>130760</td>\n",
       "      <td>130761</td>\n",
       "      <td>230</td>\n",
       "      <td>3</td>\n",
       "      <td>Baby Product</td>\n",
       "      <td>Baby Product &gt; Activity &amp; Gear &gt; Baby Slings /...</td>\n",
       "      <td>Baby Slings / Carriers</td>\n",
       "      <td>2979071</td>\n",
       "      <td>1275</td>\n",
       "      <td>Material</td>\n",
       "      <td>Cotton</td>\n",
       "      <td>NaN</td>\n",
       "      <td>http://i03.hktdc-img.com/rsc?profile=productim...</td>\n",
       "      <td>Material_Cotton</td>\n",
       "    </tr>\n",
       "  </tbody>\n",
       "</table>\n",
       "</div>"
      ],
      "text/plain": [
       "   Unnamed: 0  Unnamed: 0.1     RID  CATEGORY_ID  CATEGORY_DEPTH  \\\n",
       "0           0        120998  120999          232               3   \n",
       "1           1        121100  121101          232               3   \n",
       "2           2        125103  125104          234               3   \n",
       "3           3        128147  128148          234               3   \n",
       "4           4        130760  130761          230               3   \n",
       "\n",
       "           ROOT                                           DPA_PATH  \\\n",
       "0  Baby Product      Baby Product > Activity & Gear > Baby Harness   \n",
       "1  Baby Product      Baby Product > Activity & Gear > Baby Harness   \n",
       "2  Baby Product  Baby Product > Activity & Gear > Baby Push Cha...   \n",
       "3  Baby Product  Baby Product > Activity & Gear > Baby Push Cha...   \n",
       "4  Baby Product  Baby Product > Activity & Gear > Baby Slings /...   \n",
       "\n",
       "                           LEAF  PRODUCT_ID  ATTR_ID ATTR_NAME ATTR_VALUE  \\\n",
       "0                  Baby Harness     1117680     1284  Material     Cotton   \n",
       "1                  Baby Harness     3371913     1284  Material     Cotton   \n",
       "2  Baby Push Chairs / Strollers     3129504    17114  Material     Cotton   \n",
       "3  Baby Push Chairs / Strollers     3448267    17114  Material     Cotton   \n",
       "4        Baby Slings / Carriers     2979071     1275  Material     Cotton   \n",
       "\n",
       "                                         PRODUCT_URL  \\\n",
       "0  http://www.hktdc.com/suppliers-products/Baby-W...   \n",
       "1                                                NaN   \n",
       "2  http://www.hktdc.com/suppliers-products/Baby-S...   \n",
       "3                                                NaN   \n",
       "4                                                NaN   \n",
       "\n",
       "                                           IMAGE_URL         ATTR_COM  \n",
       "0  http://i03.hktdc-img.com/rsc?profile=productim...  Material_Cotton  \n",
       "1  http://i03.hktdc-img.com/rsc?profile=productim...  Material_Cotton  \n",
       "2  http://i03.hktdc-img.com/rsc?profile=productim...  Material_Cotton  \n",
       "3  http://i03.hktdc-img.com/rsc?profile=productim...  Material_Cotton  \n",
       "4  http://i03.hktdc-img.com/rsc?profile=productim...  Material_Cotton  "
      ]
     },
     "execution_count": 5,
     "metadata": {},
     "output_type": "execute_result"
    }
   ],
   "source": [
    "df.head()"
   ]
  },
  {
   "cell_type": "code",
   "execution_count": 12,
   "metadata": {},
   "outputs": [
    {
     "name": "stdout",
     "output_type": "stream",
     "text": [
      "[]\n"
     ]
    }
   ],
   "source": [
    "from pathlib import Path\n",
    "s3_location = Path(\"s3://see-ml-storage/\")\n",
    "\n",
    "all_files = s3_location.glob(\"**/*\")\n",
    "print(list(all_files))"
   ]
  },
  {
   "cell_type": "code",
   "execution_count": 10,
   "metadata": {},
   "outputs": [
    {
     "ename": "AssertionError",
     "evalue": "",
     "output_type": "error",
     "traceback": [
      "\u001b[0;31m---------------------------------------------------------------------------\u001b[0m",
      "\u001b[0;31mAssertionError\u001b[0m                            Traceback (most recent call last)",
      "\u001b[0;32m<ipython-input-10-a8f828cdd34b>\u001b[0m in \u001b[0;36m<module>\u001b[0;34m()\u001b[0m\n\u001b[1;32m      1\u001b[0m \u001b[0;32mfrom\u001b[0m \u001b[0mpathlib\u001b[0m  \u001b[0;32mimport\u001b[0m \u001b[0mPath\u001b[0m\u001b[0;34m\u001b[0m\u001b[0m\n\u001b[1;32m      2\u001b[0m \u001b[0mv3_csv\u001b[0m \u001b[0;34m=\u001b[0m \u001b[0ms3_location\u001b[0m \u001b[0;34m/\u001b[0m \u001b[0;34m\"case3_dataset_v3.csv\"\u001b[0m\u001b[0;34m\u001b[0m\u001b[0m\n\u001b[0;32m----> 3\u001b[0;31m \u001b[0;32massert\u001b[0m \u001b[0mv3_csv\u001b[0m\u001b[0;34m.\u001b[0m\u001b[0mexists\u001b[0m\u001b[0;34m(\u001b[0m\u001b[0;34m)\u001b[0m\u001b[0;34m\u001b[0m\u001b[0m\n\u001b[0m",
      "\u001b[0;31mAssertionError\u001b[0m: "
     ]
    }
   ],
   "source": [
    "from pathlib  import Path\n",
    "v3_csv = s3_location / \"case3_dataset_v3.csv\"\n",
    "assert v3_csv.exists()"
   ]
  },
  {
   "cell_type": "code",
   "execution_count": 14,
   "metadata": {},
   "outputs": [
    {
     "name": "stdout",
     "output_type": "stream",
     "text": [
      "s3.Object(bucket_name='see-ml-storage', key='8852.jpg')\n"
     ]
    },
    {
     "ename": "AttributeError",
     "evalue": "'s3.Object' object has no attribute 'read'",
     "output_type": "error",
     "traceback": [
      "\u001b[0;31m---------------------------------------------------------------------------\u001b[0m",
      "\u001b[0;31mAttributeError\u001b[0m                            Traceback (most recent call last)",
      "\u001b[0;32m~/anaconda3/envs/pytorch_p36/lib/python3.6/site-packages/PIL/Image.py\u001b[0m in \u001b[0;36mopen\u001b[0;34m(fp, mode)\u001b[0m\n\u001b[1;32m   2583\u001b[0m     \u001b[0;32mtry\u001b[0m\u001b[0;34m:\u001b[0m\u001b[0;34m\u001b[0m\u001b[0m\n\u001b[0;32m-> 2584\u001b[0;31m         \u001b[0mfp\u001b[0m\u001b[0;34m.\u001b[0m\u001b[0mseek\u001b[0m\u001b[0;34m(\u001b[0m\u001b[0;36m0\u001b[0m\u001b[0;34m)\u001b[0m\u001b[0;34m\u001b[0m\u001b[0m\n\u001b[0m\u001b[1;32m   2585\u001b[0m     \u001b[0;32mexcept\u001b[0m \u001b[0;34m(\u001b[0m\u001b[0mAttributeError\u001b[0m\u001b[0;34m,\u001b[0m \u001b[0mio\u001b[0m\u001b[0;34m.\u001b[0m\u001b[0mUnsupportedOperation\u001b[0m\u001b[0;34m)\u001b[0m\u001b[0;34m:\u001b[0m\u001b[0;34m\u001b[0m\u001b[0m\n",
      "\u001b[0;31mAttributeError\u001b[0m: 's3.Object' object has no attribute 'seek'",
      "\nDuring handling of the above exception, another exception occurred:\n",
      "\u001b[0;31mAttributeError\u001b[0m                            Traceback (most recent call last)",
      "\u001b[0;32m<ipython-input-14-66a8971605e3>\u001b[0m in \u001b[0;36m<module>\u001b[0;34m()\u001b[0m\n\u001b[1;32m      7\u001b[0m \u001b[0;32mfrom\u001b[0m \u001b[0mPIL\u001b[0m \u001b[0;32mimport\u001b[0m \u001b[0mImage\u001b[0m\u001b[0;34m\u001b[0m\u001b[0m\n\u001b[1;32m      8\u001b[0m \u001b[0;34m\u001b[0m\u001b[0m\n\u001b[0;32m----> 9\u001b[0;31m \u001b[0mimage\u001b[0m \u001b[0;34m=\u001b[0m \u001b[0mImage\u001b[0m\u001b[0;34m.\u001b[0m\u001b[0mopen\u001b[0m\u001b[0;34m(\u001b[0m\u001b[0mjpg\u001b[0m\u001b[0;34m)\u001b[0m\u001b[0;34m\u001b[0m\u001b[0m\n\u001b[0m\u001b[1;32m     10\u001b[0m \u001b[0mprint\u001b[0m\u001b[0;34m(\u001b[0m\u001b[0mimage\u001b[0m\u001b[0;34m)\u001b[0m\u001b[0;34m\u001b[0m\u001b[0m\n",
      "\u001b[0;32m~/anaconda3/envs/pytorch_p36/lib/python3.6/site-packages/PIL/Image.py\u001b[0m in \u001b[0;36mopen\u001b[0;34m(fp, mode)\u001b[0m\n\u001b[1;32m   2584\u001b[0m         \u001b[0mfp\u001b[0m\u001b[0;34m.\u001b[0m\u001b[0mseek\u001b[0m\u001b[0;34m(\u001b[0m\u001b[0;36m0\u001b[0m\u001b[0;34m)\u001b[0m\u001b[0;34m\u001b[0m\u001b[0m\n\u001b[1;32m   2585\u001b[0m     \u001b[0;32mexcept\u001b[0m \u001b[0;34m(\u001b[0m\u001b[0mAttributeError\u001b[0m\u001b[0;34m,\u001b[0m \u001b[0mio\u001b[0m\u001b[0;34m.\u001b[0m\u001b[0mUnsupportedOperation\u001b[0m\u001b[0;34m)\u001b[0m\u001b[0;34m:\u001b[0m\u001b[0;34m\u001b[0m\u001b[0m\n\u001b[0;32m-> 2586\u001b[0;31m         \u001b[0mfp\u001b[0m \u001b[0;34m=\u001b[0m \u001b[0mio\u001b[0m\u001b[0;34m.\u001b[0m\u001b[0mBytesIO\u001b[0m\u001b[0;34m(\u001b[0m\u001b[0mfp\u001b[0m\u001b[0;34m.\u001b[0m\u001b[0mread\u001b[0m\u001b[0;34m(\u001b[0m\u001b[0;34m)\u001b[0m\u001b[0;34m)\u001b[0m\u001b[0;34m\u001b[0m\u001b[0m\n\u001b[0m\u001b[1;32m   2587\u001b[0m         \u001b[0mexclusive_fp\u001b[0m \u001b[0;34m=\u001b[0m \u001b[0;32mTrue\u001b[0m\u001b[0;34m\u001b[0m\u001b[0m\n\u001b[1;32m   2588\u001b[0m \u001b[0;34m\u001b[0m\u001b[0m\n",
      "\u001b[0;31mAttributeError\u001b[0m: 's3.Object' object has no attribute 'read'"
     ]
    }
   ],
   "source": [
    "import boto3\n",
    "s3 = boto3.resource('s3', region_name='us-west-oregon')\n",
    "bucket = s3.Bucket('see-ml-storage')\n",
    "jpg = bucket.Object(\"8852.jpg\")\n",
    "\n",
    "print(jpg)\n",
    "\n",
    "from PIL import Image\n",
    "\n",
    "image = Image.open(jpg)\n",
    "print(image)"
   ]
  },
  {
   "cell_type": "code",
   "execution_count": null,
   "metadata": {},
   "outputs": [],
   "source": []
  }
 ],
 "metadata": {
  "kernelspec": {
   "display_name": "conda_pytorch_p36",
   "language": "python",
   "name": "conda_pytorch_p36"
  },
  "language_info": {
   "codemirror_mode": {
    "name": "ipython",
    "version": 3
   },
   "file_extension": ".py",
   "mimetype": "text/x-python",
   "name": "python",
   "nbconvert_exporter": "python",
   "pygments_lexer": "ipython3",
   "version": "3.6.5"
  }
 },
 "nbformat": 4,
 "nbformat_minor": 2
}
