{
 "cells": [
  {
   "cell_type": "code",
   "execution_count": 1,
   "metadata": {},
   "outputs": [],
   "source": [
    "#general operations\n",
    "import time\n",
    "import os\n",
    "\n",
    "#data processing\n",
    "import pandas as pd\n",
    "import numpy as np\n",
    "\n",
    "#data visualisation\n",
    "import matplotlib.pyplot as plt\n",
    "\n",
    "#standard AWS operations\n",
    "from sagemaker import get_execution_role\n",
    "import boto3\n",
    "\n",
    "import tensorflow as tf"
   ]
  },
  {
   "cell_type": "code",
   "execution_count": 23,
   "metadata": {},
   "outputs": [],
   "source": [
    "bucket = 'see-ml-storage'\n",
    "file_name = 'all-userItemInteractions-until-2019-01-13-01-modified.csv'"
   ]
  },
  {
   "cell_type": "code",
   "execution_count": 24,
   "metadata": {},
   "outputs": [],
   "source": [
    "data_location = 's3://{}/{}'.format(bucket, file_name)"
   ]
  },
  {
   "cell_type": "code",
   "execution_count": 25,
   "metadata": {},
   "outputs": [],
   "source": [
    "df = pd.read_csv(data_location)"
   ]
  },
  {
   "cell_type": "code",
   "execution_count": 26,
   "metadata": {},
   "outputs": [
    {
     "data": {
      "text/plain": [
       "(22378, 3)"
      ]
     },
     "execution_count": 26,
     "metadata": {},
     "output_type": "execute_result"
    }
   ],
   "source": [
    "df.shape"
   ]
  },
  {
   "cell_type": "code",
   "execution_count": 27,
   "metadata": {
    "scrolled": true
   },
   "outputs": [
    {
     "data": {
      "text/plain": [
       "11859"
      ]
     },
     "execution_count": 27,
     "metadata": {},
     "output_type": "execute_result"
    }
   ],
   "source": [
    "len(df['USER_ID'].unique())"
   ]
  },
  {
   "cell_type": "code",
   "execution_count": 28,
   "metadata": {},
   "outputs": [
    {
     "data": {
      "text/plain": [
       "10000"
      ]
     },
     "execution_count": 28,
     "metadata": {},
     "output_type": "execute_result"
    }
   ],
   "source": [
    "len(df['ITEM_ID'].unique())"
   ]
  },
  {
   "cell_type": "markdown",
   "metadata": {},
   "source": [
    "#### Remove Useless Data"
   ]
  },
  {
   "cell_type": "code",
   "execution_count": 29,
   "metadata": {},
   "outputs": [],
   "source": [
    "df_count=df.groupby('ITEM_ID').count().sort_values('USER_ID', ascending=False)"
   ]
  },
  {
   "cell_type": "code",
   "execution_count": 30,
   "metadata": {},
   "outputs": [],
   "source": [
    "item_id_keep=df_count[df_count['USER_ID']>=5].index"
   ]
  },
  {
   "cell_type": "code",
   "execution_count": 31,
   "metadata": {},
   "outputs": [],
   "source": [
    "index_keep=df[df['ITEM_ID'].apply(lambda x: True if x in item_id_keep else False)].index"
   ]
  },
  {
   "cell_type": "code",
   "execution_count": 32,
   "metadata": {},
   "outputs": [],
   "source": [
    "df=df.iloc[index_keep]"
   ]
  },
  {
   "cell_type": "code",
   "execution_count": 33,
   "metadata": {},
   "outputs": [
    {
     "data": {
      "text/plain": [
       "(8790, 3)"
      ]
     },
     "execution_count": 33,
     "metadata": {},
     "output_type": "execute_result"
    }
   ],
   "source": [
    "df.shape"
   ]
  },
  {
   "cell_type": "code",
   "execution_count": 34,
   "metadata": {},
   "outputs": [
    {
     "data": {
      "text/plain": [
       "5381"
      ]
     },
     "execution_count": 34,
     "metadata": {},
     "output_type": "execute_result"
    }
   ],
   "source": [
    "len(df['USER_ID'].unique())"
   ]
  },
  {
   "cell_type": "code",
   "execution_count": 35,
   "metadata": {},
   "outputs": [
    {
     "data": {
      "text/plain": [
       "666"
      ]
     },
     "execution_count": 35,
     "metadata": {},
     "output_type": "execute_result"
    }
   ],
   "source": [
    "len(df['ITEM_ID'].unique())"
   ]
  },
  {
   "cell_type": "markdown",
   "metadata": {},
   "source": [
    "#### Check Duplicates"
   ]
  },
  {
   "cell_type": "code",
   "execution_count": 32,
   "metadata": {},
   "outputs": [],
   "source": [
    "df_clean=df.copy()\n",
    "df_clean=df_clean[['USER_ID','ITEM_ID']]"
   ]
  },
  {
   "cell_type": "code",
   "execution_count": 34,
   "metadata": {},
   "outputs": [
    {
     "data": {
      "text/plain": [
       "1478"
      ]
     },
     "execution_count": 34,
     "metadata": {},
     "output_type": "execute_result"
    }
   ],
   "source": [
    "sum(df_clean.duplicated())"
   ]
  },
  {
   "cell_type": "code",
   "execution_count": 35,
   "metadata": {},
   "outputs": [],
   "source": [
    "df_clean.drop_duplicates(inplace=True)"
   ]
  },
  {
   "cell_type": "code",
   "execution_count": 36,
   "metadata": {},
   "outputs": [
    {
     "data": {
      "text/html": [
       "<div>\n",
       "<style scoped>\n",
       "    .dataframe tbody tr th:only-of-type {\n",
       "        vertical-align: middle;\n",
       "    }\n",
       "\n",
       "    .dataframe tbody tr th {\n",
       "        vertical-align: top;\n",
       "    }\n",
       "\n",
       "    .dataframe thead th {\n",
       "        text-align: right;\n",
       "    }\n",
       "</style>\n",
       "<table border=\"1\" class=\"dataframe\">\n",
       "  <thead>\n",
       "    <tr style=\"text-align: right;\">\n",
       "      <th></th>\n",
       "      <th>USER_ID</th>\n",
       "      <th>ITEM_ID</th>\n",
       "    </tr>\n",
       "  </thead>\n",
       "  <tbody>\n",
       "    <tr>\n",
       "      <th>2</th>\n",
       "      <td>016434746fb20012218b0e90e1bf1c065002c05d0093c</td>\n",
       "      <td>2288085</td>\n",
       "    </tr>\n",
       "    <tr>\n",
       "      <th>3</th>\n",
       "      <td>01667aab565c001fe236ce4ff8df02075005306d00fb8</td>\n",
       "      <td>2254093</td>\n",
       "    </tr>\n",
       "    <tr>\n",
       "      <th>6</th>\n",
       "      <td>01667a918deb0014fff4d372d56f03073001606b00978</td>\n",
       "      <td>2995200</td>\n",
       "    </tr>\n",
       "    <tr>\n",
       "      <th>8</th>\n",
       "      <td>01667a993d48000243cc54ad6ce40009b008209300408</td>\n",
       "      <td>3429569</td>\n",
       "    </tr>\n",
       "    <tr>\n",
       "      <th>33</th>\n",
       "      <td>01667ab66085009acf9f989d801803072004c06a0086e</td>\n",
       "      <td>673120</td>\n",
       "    </tr>\n",
       "  </tbody>\n",
       "</table>\n",
       "</div>"
      ],
      "text/plain": [
       "                                          USER_ID  ITEM_ID\n",
       "2   016434746fb20012218b0e90e1bf1c065002c05d0093c  2288085\n",
       "3   01667aab565c001fe236ce4ff8df02075005306d00fb8  2254093\n",
       "6   01667a918deb0014fff4d372d56f03073001606b00978  2995200\n",
       "8   01667a993d48000243cc54ad6ce40009b008209300408  3429569\n",
       "33  01667ab66085009acf9f989d801803072004c06a0086e   673120"
      ]
     },
     "execution_count": 36,
     "metadata": {},
     "output_type": "execute_result"
    }
   ],
   "source": [
    "df_clean.head()"
   ]
  },
  {
   "cell_type": "code",
   "execution_count": 37,
   "metadata": {},
   "outputs": [],
   "source": [
    "from tqdm import tqdm_notebook as tqdm"
   ]
  },
  {
   "cell_type": "code",
   "execution_count": 38,
   "metadata": {},
   "outputs": [
    {
     "data": {
      "application/vnd.jupyter.widget-view+json": {
       "model_id": "d32ee241097546e1a319e1e543dcb57f",
       "version_major": 2,
       "version_minor": 0
      },
      "text/plain": [
       "HBox(children=(IntProgress(value=0, max=4448), HTML(value='')))"
      ]
     },
     "metadata": {},
     "output_type": "display_data"
    },
    {
     "name": "stdout",
     "output_type": "stream",
     "text": [
      "\n"
     ]
    }
   ],
   "source": [
    "count=[]\n",
    "\n",
    "for _,row in tqdm(df_clean.iterrows(), total=df_clean.shape[0]):\n",
    "    count.append(sum((df['ITEM_ID']==row['ITEM_ID']) & (df['USER_ID']==row['USER_ID'])))"
   ]
  },
  {
   "cell_type": "code",
   "execution_count": 39,
   "metadata": {},
   "outputs": [],
   "source": [
    "df_clean['COUNT']=count"
   ]
  },
  {
   "cell_type": "code",
   "execution_count": 41,
   "metadata": {},
   "outputs": [],
   "source": [
    "df_clean.reset_index(inplace=True, drop=True)"
   ]
  },
  {
   "cell_type": "code",
   "execution_count": 44,
   "metadata": {},
   "outputs": [
    {
     "data": {
      "text/html": [
       "<div>\n",
       "<style scoped>\n",
       "    .dataframe tbody tr th:only-of-type {\n",
       "        vertical-align: middle;\n",
       "    }\n",
       "\n",
       "    .dataframe tbody tr th {\n",
       "        vertical-align: top;\n",
       "    }\n",
       "\n",
       "    .dataframe thead th {\n",
       "        text-align: right;\n",
       "    }\n",
       "</style>\n",
       "<table border=\"1\" class=\"dataframe\">\n",
       "  <thead>\n",
       "    <tr style=\"text-align: right;\">\n",
       "      <th></th>\n",
       "      <th>USER_ID</th>\n",
       "      <th>ITEM_ID</th>\n",
       "      <th>COUNT</th>\n",
       "    </tr>\n",
       "  </thead>\n",
       "  <tbody>\n",
       "    <tr>\n",
       "      <th>2764</th>\n",
       "      <td>0166874021190001b727595e884503072001606a009dc</td>\n",
       "      <td>3420290</td>\n",
       "      <td>29</td>\n",
       "    </tr>\n",
       "    <tr>\n",
       "      <th>2763</th>\n",
       "      <td>0166874021190001b727595e884503072001606a009dc</td>\n",
       "      <td>3420293</td>\n",
       "      <td>27</td>\n",
       "    </tr>\n",
       "    <tr>\n",
       "      <th>2765</th>\n",
       "      <td>0166874021190001b727595e884503072001606a009dc</td>\n",
       "      <td>3420265</td>\n",
       "      <td>20</td>\n",
       "    </tr>\n",
       "    <tr>\n",
       "      <th>52</th>\n",
       "      <td>0164348342e50022b3379f0fc19c03072004d06a007e8</td>\n",
       "      <td>3327504</td>\n",
       "      <td>18</td>\n",
       "    </tr>\n",
       "    <tr>\n",
       "      <th>20</th>\n",
       "      <td>016661468d0300554edd7dbbb9dc0307200fa06a00bd0</td>\n",
       "      <td>658912</td>\n",
       "      <td>17</td>\n",
       "    </tr>\n",
       "    <tr>\n",
       "      <th>3095</th>\n",
       "      <td>0166a97240bd00486727915926bc01075005306d00718</td>\n",
       "      <td>3161428</td>\n",
       "      <td>17</td>\n",
       "    </tr>\n",
       "    <tr>\n",
       "      <th>236</th>\n",
       "      <td>01667bceb5b30008ba8f6ae2f90a1b06e001606600bd0</td>\n",
       "      <td>2805925</td>\n",
       "      <td>16</td>\n",
       "    </tr>\n",
       "    <tr>\n",
       "      <th>638</th>\n",
       "      <td>016434b5de3300aff0233de7a76004071008c06900bd0</td>\n",
       "      <td>3334728</td>\n",
       "      <td>16</td>\n",
       "    </tr>\n",
       "    <tr>\n",
       "      <th>28</th>\n",
       "      <td>0164f880c6bd0014d32337e423af01081007107900978</td>\n",
       "      <td>3404685</td>\n",
       "      <td>14</td>\n",
       "    </tr>\n",
       "    <tr>\n",
       "      <th>82</th>\n",
       "      <td>0165a787c9090001a2db1e319a9a1b06d00810650093c</td>\n",
       "      <td>2980739</td>\n",
       "      <td>14</td>\n",
       "    </tr>\n",
       "    <tr>\n",
       "      <th>631</th>\n",
       "      <td>0166830d86940091745f71212e000307e00c40760086e</td>\n",
       "      <td>2496825</td>\n",
       "      <td>14</td>\n",
       "    </tr>\n",
       "    <tr>\n",
       "      <th>717</th>\n",
       "      <td>0165cc2d33e0005c4213b00ebe2003072005606a0086e</td>\n",
       "      <td>1223492</td>\n",
       "      <td>13</td>\n",
       "    </tr>\n",
       "    <tr>\n",
       "      <th>637</th>\n",
       "      <td>016434b5de3300aff0233de7a76004071008c06900bd0</td>\n",
       "      <td>3319187</td>\n",
       "      <td>13</td>\n",
       "    </tr>\n",
       "    <tr>\n",
       "      <th>79</th>\n",
       "      <td>01659f53e8c0003469a369a97a5c03073006706b00bd0</td>\n",
       "      <td>1249728</td>\n",
       "      <td>11</td>\n",
       "    </tr>\n",
       "    <tr>\n",
       "      <th>636</th>\n",
       "      <td>0165acf32d5d00284a487b178a9e020b000990a800bd0</td>\n",
       "      <td>3319187</td>\n",
       "      <td>11</td>\n",
       "    </tr>\n",
       "    <tr>\n",
       "      <th>77</th>\n",
       "      <td>01659f53e8c0003469a369a97a5c03073006706b00bd0</td>\n",
       "      <td>2467422</td>\n",
       "      <td>11</td>\n",
       "    </tr>\n",
       "    <tr>\n",
       "      <th>78</th>\n",
       "      <td>01659f53e8c0003469a369a97a5c03073006706b00bd0</td>\n",
       "      <td>1821696</td>\n",
       "      <td>11</td>\n",
       "    </tr>\n",
       "    <tr>\n",
       "      <th>1748</th>\n",
       "      <td>01669b1014ba001f1f1ae0f344a403072004106a0086e</td>\n",
       "      <td>1220725</td>\n",
       "      <td>10</td>\n",
       "    </tr>\n",
       "    <tr>\n",
       "      <th>146</th>\n",
       "      <td>0166452873a000483281a0d032b403073006c06b00978</td>\n",
       "      <td>478662</td>\n",
       "      <td>10</td>\n",
       "    </tr>\n",
       "    <tr>\n",
       "      <th>4025</th>\n",
       "      <td>0166c3fd53230017b4621f162a8f010e000630d80086e</td>\n",
       "      <td>3432409</td>\n",
       "      <td>10</td>\n",
       "    </tr>\n",
       "    <tr>\n",
       "      <th>1945</th>\n",
       "      <td>0164b6fbe69400125ee8802acba61a06d003306500918</td>\n",
       "      <td>1196690</td>\n",
       "      <td>10</td>\n",
       "    </tr>\n",
       "    <tr>\n",
       "      <th>3696</th>\n",
       "      <td>01667aeabc1b002169b01dc6d2c003072001606a00bd0</td>\n",
       "      <td>2011099</td>\n",
       "      <td>9</td>\n",
       "    </tr>\n",
       "    <tr>\n",
       "      <th>247</th>\n",
       "      <td>0165acf32d5d00284a487b178a9e020b000990a800bd0</td>\n",
       "      <td>3334728</td>\n",
       "      <td>9</td>\n",
       "    </tr>\n",
       "    <tr>\n",
       "      <th>13</th>\n",
       "      <td>016434618d79001a788ec210255703071004906900bd0</td>\n",
       "      <td>1002194</td>\n",
       "      <td>9</td>\n",
       "    </tr>\n",
       "    <tr>\n",
       "      <th>12</th>\n",
       "      <td>016434618d79001a788ec210255703071004906900bd0</td>\n",
       "      <td>3214361</td>\n",
       "      <td>9</td>\n",
       "    </tr>\n",
       "    <tr>\n",
       "      <th>3151</th>\n",
       "      <td>0166af4a5a17005ebd7038c3ace403072005e06a00918</td>\n",
       "      <td>3391612</td>\n",
       "      <td>9</td>\n",
       "    </tr>\n",
       "    <tr>\n",
       "      <th>2346</th>\n",
       "      <td>0166a0f83747000e2158c39bfc720508d005708500bd0</td>\n",
       "      <td>3119379</td>\n",
       "      <td>9</td>\n",
       "    </tr>\n",
       "    <tr>\n",
       "      <th>3332</th>\n",
       "      <td>0166b46be771000dd3eae2c3fb07010dc00630d40086e</td>\n",
       "      <td>3433889</td>\n",
       "      <td>9</td>\n",
       "    </tr>\n",
       "    <tr>\n",
       "      <th>1404</th>\n",
       "      <td>0163fd59dfde0013d77fce2dd8b203071007306900bd0</td>\n",
       "      <td>3429569</td>\n",
       "      <td>8</td>\n",
       "    </tr>\n",
       "    <tr>\n",
       "      <th>2270</th>\n",
       "      <td>01669fb3ae57001d83832510c7c303072004106a00918</td>\n",
       "      <td>295312</td>\n",
       "      <td>8</td>\n",
       "    </tr>\n",
       "    <tr>\n",
       "      <th>...</th>\n",
       "      <td>...</td>\n",
       "      <td>...</td>\n",
       "      <td>...</td>\n",
       "    </tr>\n",
       "    <tr>\n",
       "      <th>1654</th>\n",
       "      <td>01669a8b5d6d0022dca2032531f400073005906b008c0</td>\n",
       "      <td>3375586</td>\n",
       "      <td>1</td>\n",
       "    </tr>\n",
       "    <tr>\n",
       "      <th>1653</th>\n",
       "      <td>01669a8c0d670015157b7919c16c00073005906b008c0</td>\n",
       "      <td>3375586</td>\n",
       "      <td>1</td>\n",
       "    </tr>\n",
       "    <tr>\n",
       "      <th>1625</th>\n",
       "      <td>01669a844e02001189282f03ed6a00073005906b008c0</td>\n",
       "      <td>3375586</td>\n",
       "      <td>1</td>\n",
       "    </tr>\n",
       "    <tr>\n",
       "      <th>1626</th>\n",
       "      <td>01669a8570ac000169421f16ef4600073005906b008c0</td>\n",
       "      <td>3375586</td>\n",
       "      <td>1</td>\n",
       "    </tr>\n",
       "    <tr>\n",
       "      <th>1627</th>\n",
       "      <td>01669a836bdc0049bb4ddf4ce40000073005906b008c0</td>\n",
       "      <td>3375586</td>\n",
       "      <td>1</td>\n",
       "    </tr>\n",
       "    <tr>\n",
       "      <th>1628</th>\n",
       "      <td>01669a847b280071586fdcd9afb400073005906b008c0</td>\n",
       "      <td>3375586</td>\n",
       "      <td>1</td>\n",
       "    </tr>\n",
       "    <tr>\n",
       "      <th>1629</th>\n",
       "      <td>01669a84f64c0002954a27f3e26200073005906b008c0</td>\n",
       "      <td>3375586</td>\n",
       "      <td>1</td>\n",
       "    </tr>\n",
       "    <tr>\n",
       "      <th>1630</th>\n",
       "      <td>01669a85155000124613b935480300073005906b008c0</td>\n",
       "      <td>3375586</td>\n",
       "      <td>1</td>\n",
       "    </tr>\n",
       "    <tr>\n",
       "      <th>1631</th>\n",
       "      <td>01669a8643f900188eff58ee170300073005906b008c0</td>\n",
       "      <td>3375586</td>\n",
       "      <td>1</td>\n",
       "    </tr>\n",
       "    <tr>\n",
       "      <th>1632</th>\n",
       "      <td>01669a867c460014b3833e3c0e4100073005906b008c0</td>\n",
       "      <td>3375586</td>\n",
       "      <td>1</td>\n",
       "    </tr>\n",
       "    <tr>\n",
       "      <th>1633</th>\n",
       "      <td>01669a842b57001aabb7a2baa42f00073005906b008c0</td>\n",
       "      <td>3375586</td>\n",
       "      <td>1</td>\n",
       "    </tr>\n",
       "    <tr>\n",
       "      <th>1634</th>\n",
       "      <td>01669a850eed0011218300835bf800073005906b008c0</td>\n",
       "      <td>3375586</td>\n",
       "      <td>1</td>\n",
       "    </tr>\n",
       "    <tr>\n",
       "      <th>1635</th>\n",
       "      <td>01669a8619b900019dfb897ec93100073005906b008c0</td>\n",
       "      <td>3375586</td>\n",
       "      <td>1</td>\n",
       "    </tr>\n",
       "    <tr>\n",
       "      <th>1636</th>\n",
       "      <td>01669a8775a4001e3397c440ec6700073005906b008c0</td>\n",
       "      <td>3375586</td>\n",
       "      <td>1</td>\n",
       "    </tr>\n",
       "    <tr>\n",
       "      <th>1637</th>\n",
       "      <td>01669a84eccb0016485b54ef2e6100073005906b008c0</td>\n",
       "      <td>3375586</td>\n",
       "      <td>1</td>\n",
       "    </tr>\n",
       "    <tr>\n",
       "      <th>1638</th>\n",
       "      <td>01669a8537f30018283efbac31ff00073005906b008c0</td>\n",
       "      <td>3375586</td>\n",
       "      <td>1</td>\n",
       "    </tr>\n",
       "    <tr>\n",
       "      <th>1639</th>\n",
       "      <td>01669a88c7e40021e8c1a2ed174000073005906b008c0</td>\n",
       "      <td>3375586</td>\n",
       "      <td>1</td>\n",
       "    </tr>\n",
       "    <tr>\n",
       "      <th>1640</th>\n",
       "      <td>01669a88cb5300023ca4c0bd6c6800073005906b008c0</td>\n",
       "      <td>3375586</td>\n",
       "      <td>1</td>\n",
       "    </tr>\n",
       "    <tr>\n",
       "      <th>1641</th>\n",
       "      <td>01669a85f0cb000332f9b07065de00073005906b008c0</td>\n",
       "      <td>3375586</td>\n",
       "      <td>1</td>\n",
       "    </tr>\n",
       "    <tr>\n",
       "      <th>1642</th>\n",
       "      <td>01669a862d32001e76599c97a66600073005906b008c0</td>\n",
       "      <td>3375586</td>\n",
       "      <td>1</td>\n",
       "    </tr>\n",
       "    <tr>\n",
       "      <th>1643</th>\n",
       "      <td>01669a86442700170fcb6b5d540e00073005906b008c0</td>\n",
       "      <td>3375586</td>\n",
       "      <td>1</td>\n",
       "    </tr>\n",
       "    <tr>\n",
       "      <th>1644</th>\n",
       "      <td>01669a89ca5800020fc531b6415500073005906b008c0</td>\n",
       "      <td>3375586</td>\n",
       "      <td>1</td>\n",
       "    </tr>\n",
       "    <tr>\n",
       "      <th>1645</th>\n",
       "      <td>01669a875b9f00916f9f1271540800073005906b008c0</td>\n",
       "      <td>3375586</td>\n",
       "      <td>1</td>\n",
       "    </tr>\n",
       "    <tr>\n",
       "      <th>1647</th>\n",
       "      <td>01669a8959fe0015b84f337a8b1400073005906b008c0</td>\n",
       "      <td>3375586</td>\n",
       "      <td>1</td>\n",
       "    </tr>\n",
       "    <tr>\n",
       "      <th>1648</th>\n",
       "      <td>01669a89deda0095f736bcac942000073005906b008c0</td>\n",
       "      <td>3375586</td>\n",
       "      <td>1</td>\n",
       "    </tr>\n",
       "    <tr>\n",
       "      <th>1649</th>\n",
       "      <td>01669a8b0f1c001e94c9c3e39bc500073005906b008c0</td>\n",
       "      <td>3375586</td>\n",
       "      <td>1</td>\n",
       "    </tr>\n",
       "    <tr>\n",
       "      <th>1650</th>\n",
       "      <td>01669a8c08be001dca338906077e00073005906b008c0</td>\n",
       "      <td>3375586</td>\n",
       "      <td>1</td>\n",
       "    </tr>\n",
       "    <tr>\n",
       "      <th>1651</th>\n",
       "      <td>01669a88a083000f4c564b9670a900073005906b008c0</td>\n",
       "      <td>3375586</td>\n",
       "      <td>1</td>\n",
       "    </tr>\n",
       "    <tr>\n",
       "      <th>1652</th>\n",
       "      <td>01669a8adfa8001a38932097a88f00073005906b008c0</td>\n",
       "      <td>3375586</td>\n",
       "      <td>1</td>\n",
       "    </tr>\n",
       "    <tr>\n",
       "      <th>4447</th>\n",
       "      <td>0166cbe50732000e437a1653629803072002706a00bd0</td>\n",
       "      <td>1002194</td>\n",
       "      <td>1</td>\n",
       "    </tr>\n",
       "  </tbody>\n",
       "</table>\n",
       "<p>4448 rows × 3 columns</p>\n",
       "</div>"
      ],
      "text/plain": [
       "                                            USER_ID  ITEM_ID  COUNT\n",
       "2764  0166874021190001b727595e884503072001606a009dc  3420290     29\n",
       "2763  0166874021190001b727595e884503072001606a009dc  3420293     27\n",
       "2765  0166874021190001b727595e884503072001606a009dc  3420265     20\n",
       "52    0164348342e50022b3379f0fc19c03072004d06a007e8  3327504     18\n",
       "20    016661468d0300554edd7dbbb9dc0307200fa06a00bd0   658912     17\n",
       "3095  0166a97240bd00486727915926bc01075005306d00718  3161428     17\n",
       "236   01667bceb5b30008ba8f6ae2f90a1b06e001606600bd0  2805925     16\n",
       "638   016434b5de3300aff0233de7a76004071008c06900bd0  3334728     16\n",
       "28    0164f880c6bd0014d32337e423af01081007107900978  3404685     14\n",
       "82    0165a787c9090001a2db1e319a9a1b06d00810650093c  2980739     14\n",
       "631   0166830d86940091745f71212e000307e00c40760086e  2496825     14\n",
       "717   0165cc2d33e0005c4213b00ebe2003072005606a0086e  1223492     13\n",
       "637   016434b5de3300aff0233de7a76004071008c06900bd0  3319187     13\n",
       "79    01659f53e8c0003469a369a97a5c03073006706b00bd0  1249728     11\n",
       "636   0165acf32d5d00284a487b178a9e020b000990a800bd0  3319187     11\n",
       "77    01659f53e8c0003469a369a97a5c03073006706b00bd0  2467422     11\n",
       "78    01659f53e8c0003469a369a97a5c03073006706b00bd0  1821696     11\n",
       "1748  01669b1014ba001f1f1ae0f344a403072004106a0086e  1220725     10\n",
       "146   0166452873a000483281a0d032b403073006c06b00978   478662     10\n",
       "4025  0166c3fd53230017b4621f162a8f010e000630d80086e  3432409     10\n",
       "1945  0164b6fbe69400125ee8802acba61a06d003306500918  1196690     10\n",
       "3696  01667aeabc1b002169b01dc6d2c003072001606a00bd0  2011099      9\n",
       "247   0165acf32d5d00284a487b178a9e020b000990a800bd0  3334728      9\n",
       "13    016434618d79001a788ec210255703071004906900bd0  1002194      9\n",
       "12    016434618d79001a788ec210255703071004906900bd0  3214361      9\n",
       "3151  0166af4a5a17005ebd7038c3ace403072005e06a00918  3391612      9\n",
       "2346  0166a0f83747000e2158c39bfc720508d005708500bd0  3119379      9\n",
       "3332  0166b46be771000dd3eae2c3fb07010dc00630d40086e  3433889      9\n",
       "1404  0163fd59dfde0013d77fce2dd8b203071007306900bd0  3429569      8\n",
       "2270  01669fb3ae57001d83832510c7c303072004106a00918   295312      8\n",
       "...                                             ...      ...    ...\n",
       "1654  01669a8b5d6d0022dca2032531f400073005906b008c0  3375586      1\n",
       "1653  01669a8c0d670015157b7919c16c00073005906b008c0  3375586      1\n",
       "1625  01669a844e02001189282f03ed6a00073005906b008c0  3375586      1\n",
       "1626  01669a8570ac000169421f16ef4600073005906b008c0  3375586      1\n",
       "1627  01669a836bdc0049bb4ddf4ce40000073005906b008c0  3375586      1\n",
       "1628  01669a847b280071586fdcd9afb400073005906b008c0  3375586      1\n",
       "1629  01669a84f64c0002954a27f3e26200073005906b008c0  3375586      1\n",
       "1630  01669a85155000124613b935480300073005906b008c0  3375586      1\n",
       "1631  01669a8643f900188eff58ee170300073005906b008c0  3375586      1\n",
       "1632  01669a867c460014b3833e3c0e4100073005906b008c0  3375586      1\n",
       "1633  01669a842b57001aabb7a2baa42f00073005906b008c0  3375586      1\n",
       "1634  01669a850eed0011218300835bf800073005906b008c0  3375586      1\n",
       "1635  01669a8619b900019dfb897ec93100073005906b008c0  3375586      1\n",
       "1636  01669a8775a4001e3397c440ec6700073005906b008c0  3375586      1\n",
       "1637  01669a84eccb0016485b54ef2e6100073005906b008c0  3375586      1\n",
       "1638  01669a8537f30018283efbac31ff00073005906b008c0  3375586      1\n",
       "1639  01669a88c7e40021e8c1a2ed174000073005906b008c0  3375586      1\n",
       "1640  01669a88cb5300023ca4c0bd6c6800073005906b008c0  3375586      1\n",
       "1641  01669a85f0cb000332f9b07065de00073005906b008c0  3375586      1\n",
       "1642  01669a862d32001e76599c97a66600073005906b008c0  3375586      1\n",
       "1643  01669a86442700170fcb6b5d540e00073005906b008c0  3375586      1\n",
       "1644  01669a89ca5800020fc531b6415500073005906b008c0  3375586      1\n",
       "1645  01669a875b9f00916f9f1271540800073005906b008c0  3375586      1\n",
       "1647  01669a8959fe0015b84f337a8b1400073005906b008c0  3375586      1\n",
       "1648  01669a89deda0095f736bcac942000073005906b008c0  3375586      1\n",
       "1649  01669a8b0f1c001e94c9c3e39bc500073005906b008c0  3375586      1\n",
       "1650  01669a8c08be001dca338906077e00073005906b008c0  3375586      1\n",
       "1651  01669a88a083000f4c564b9670a900073005906b008c0  3375586      1\n",
       "1652  01669a8adfa8001a38932097a88f00073005906b008c0  3375586      1\n",
       "4447  0166cbe50732000e437a1653629803072002706a00bd0  1002194      1\n",
       "\n",
       "[4448 rows x 3 columns]"
      ]
     },
     "execution_count": 44,
     "metadata": {},
     "output_type": "execute_result"
    }
   ],
   "source": [
    "df_clean.sort_values('COUNT', ascending=False)"
   ]
  },
  {
   "cell_type": "code",
   "execution_count": null,
   "metadata": {},
   "outputs": [],
   "source": []
  }
 ],
 "metadata": {
  "kernelspec": {
   "display_name": "conda_tensorflow_p36",
   "language": "python",
   "name": "conda_tensorflow_p36"
  },
  "language_info": {
   "codemirror_mode": {
    "name": "ipython",
    "version": 3
   },
   "file_extension": ".py",
   "mimetype": "text/x-python",
   "name": "python",
   "nbconvert_exporter": "python",
   "pygments_lexer": "ipython3",
   "version": "3.6.5"
  }
 },
 "nbformat": 4,
 "nbformat_minor": 2
}
